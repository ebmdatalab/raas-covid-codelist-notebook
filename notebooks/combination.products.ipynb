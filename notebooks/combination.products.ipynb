{
 "cells": [
  {
   "cell_type": "markdown",
   "metadata": {},
   "source": [
    "This notebook conatins SnoMed/[NHS Dictionary of Medicines and Devices](https://ebmdatalab.net/what-is-the-dmd-the-nhs-dictionary-of-medicines-and-devices/) codes for combination products for hypertension."
   ]
  },
  {
   "cell_type": "markdown",
   "metadata": {},
   "source": [
    "\n",
    "Co-Zidocapt (Hydchloroth/Captopril) (0205051G0)\n",
    "Enalapril Maleate with Diuretic (0205051H0)\n",
    "Irbesartan with Diuretic (0205052A0)\n",
    "Lisinopril with Diuretic (0205051K0)\n",
    "Losartan Potassium With Diuretic (0205052P0)\n",
    "Olmesartan Medox/Amlodipine/Hydchloroth (0205052AC)\n",
    "Olmesartan Medoxomil/Amlodipine (0205052AB)\n",
    "Olmesartan Medoxomil/Hydrochlorothiazide (0205052Y0)\n",
    "Perindopril Arginine with Diuretic (0205051Z0)\n",
    "Perindopril + Calcium Channel Blocker (0205051AC)\n",
    "Perindopril Erbumine with Diuretic (0205051N0)\n",
    "Perindopril Tosilate/Indapamide (0205051AB)\n",
    "Quinapril Hydrochloride with Diuretic (0205051P0)\n",
    "Ramipril with Calcium Channel Blocker (0205051S0)\n",
    "Telmisartan with Diuretic (0205052R0)\n",
    "Trandolapril + Calcium Channel Blocker (0205051V0)\n",
    "Valsartan with Diuretic (0205052X0)\n",
    "Valsartan/Amlodipine (0206020Z0)\n",
    "Spironolactone With Loop Diuretics (0202040T0)\n",
    "Spironolactone With Thiazides (0202040S0)\n",
    "Co-Prenozide (Oxprenolol HCl/Cyclopenth) (0204000Y0)\n",
    "Co-Tenidone (Atenolol/Chlortalidone) (020400040)\n",
    "Atenolol With Calcium Channel Blocker (0204000U0)\n",
    "Atenolol With Diuretic (0204000F0)\n",
    "Metoprolol Tartrate With Diuretic (0204000W0)\n",
    "Pindolol With Diuretic (020400010)\n",
    "Propranolol Hydrochloride With Diuretic (0204000Q0)\n",
    "Timolol With Diuretic (020400030)"
   ]
  },
  {
   "cell_type": "code",
   "execution_count": null,
   "metadata": {},
   "outputs": [],
   "source": []
  },
  {
   "cell_type": "code",
   "execution_count": null,
   "metadata": {},
   "outputs": [],
   "source": []
  }
 ],
 "metadata": {
  "jupytext": {
   "cell_metadata_filter": "all",
   "notebook_metadata_filter": "all,-language_info",
   "text_representation": {
    "extension": ".py",
    "format_name": "light",
    "format_version": "1.5",
    "jupytext_version": "1.3.3"
   }
  },
  "kernelspec": {
   "display_name": "Python 3",
   "language": "python",
   "name": "python3"
  },
  "language_info": {
   "codemirror_mode": {
    "name": "ipython",
    "version": 3
   },
   "file_extension": ".py",
   "mimetype": "text/x-python",
   "name": "python",
   "nbconvert_exporter": "python",
   "pygments_lexer": "ipython3",
   "version": "3.8.1"
  }
 },
 "nbformat": 4,
 "nbformat_minor": 4
}
